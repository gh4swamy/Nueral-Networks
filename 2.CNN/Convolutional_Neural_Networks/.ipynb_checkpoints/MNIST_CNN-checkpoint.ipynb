{
 "cells": [
  {
   "cell_type": "code",
   "execution_count": 3,
   "metadata": {},
   "outputs": [
    {
     "name": "stdout",
     "output_type": "stream",
     "text": [
      "Extracting MNIST_data/train-images-idx3-ubyte.gz\n",
      "Extracting MNIST_data/train-labels-idx1-ubyte.gz\n",
      "Extracting MNIST_data/t10k-images-idx3-ubyte.gz\n",
      "Extracting MNIST_data/t10k-labels-idx1-ubyte.gz\n"
     ]
    }
   ],
   "source": [
    "from tensorflow.examples.tutorials.mnist import input_data\n",
    "mnist = input_data.read_data_sets('MNIST_data', one_hot=True)"
   ]
  },
  {
   "cell_type": "code",
   "execution_count": 6,
   "metadata": {},
   "outputs": [],
   "source": [
    "xtr = mnist.train.images\n",
    "ytr = mnist.train.labels\n",
    "\n",
    "xts = mnist.test.images\n",
    "yts = mnist.test.labels"
   ]
  },
  {
   "cell_type": "code",
   "execution_count": 8,
   "metadata": {},
   "outputs": [
    {
     "name": "stdout",
     "output_type": "stream",
     "text": [
      "(55000, 784) (55000, 10) (10000, 784) (10000, 10)\n"
     ]
    }
   ],
   "source": [
    "import numpy as np\n",
    "print(xtr.shape, ytr.shape, xts.shape, yts.shape)"
   ]
  },
  {
   "cell_type": "code",
   "execution_count": 10,
   "metadata": {},
   "outputs": [],
   "source": [
    "from keras.models import Sequential\n",
    "from keras.layers import Conv2D, MaxPool2D, Flatten, Dense, Dropout, Reshape"
   ]
  },
  {
   "cell_type": "code",
   "execution_count": 14,
   "metadata": {},
   "outputs": [
    {
     "name": "stdout",
     "output_type": "stream",
     "text": [
      "_________________________________________________________________\n",
      "Layer (type)                 Output Shape              Param #   \n",
      "=================================================================\n",
      "reshape_2 (Reshape)          (None, 28, 28, 1)         0         \n",
      "_________________________________________________________________\n",
      "conv2d_3 (Conv2D)            (None, 26, 26, 32)        320       \n",
      "_________________________________________________________________\n",
      "conv2d_4 (Conv2D)            (None, 24, 24, 64)        18496     \n",
      "_________________________________________________________________\n",
      "max_pooling2d_2 (MaxPooling2 (None, 12, 12, 64)        0         \n",
      "_________________________________________________________________\n",
      "dropout_3 (Dropout)          (None, 12, 12, 64)        0         \n",
      "_________________________________________________________________\n",
      "flatten_2 (Flatten)          (None, 9216)              0         \n",
      "_________________________________________________________________\n",
      "dense_3 (Dense)              (None, 128)               1179776   \n",
      "_________________________________________________________________\n",
      "dropout_4 (Dropout)          (None, 128)               0         \n",
      "_________________________________________________________________\n",
      "dense_4 (Dense)              (None, 10)                1290      \n",
      "=================================================================\n",
      "Total params: 1,199,882\n",
      "Trainable params: 1,199,882\n",
      "Non-trainable params: 0\n",
      "_________________________________________________________________\n"
     ]
    }
   ],
   "source": [
    "model = Sequential()\n",
    "model.add(Reshape((28,28,1), input_shape = (784, )))\n",
    "\n",
    "model.add(Conv2D(32, (3,3), activation = 'relu', strides = (1,1)))\n",
    "model.add(Conv2D(64, (3,3), activation = 'relu', strides = (1,1)))\n",
    "\n",
    "model.add(MaxPool2D(pool_size = (2,2)))\n",
    "model.add(Dropout(0.25))\n",
    "\n",
    "model.add(Flatten())\n",
    "model.add(Dense(128, activation = 'relu'))\n",
    "model.add(Dropout(0.5))\n",
    "\n",
    "model.add(Dense(10, activation = 'softmax'))\n",
    "model.compile(optimizer = 'adam', loss = 'categorical_crossentropy', metrics = ['accuracy'])\n",
    "\n",
    "model.summary()"
   ]
  },
  {
   "cell_type": "code",
   "execution_count": null,
   "metadata": {},
   "outputs": [
    {
     "name": "stdout",
     "output_type": "stream",
     "text": [
      "Train on 55000 samples, validate on 10000 samples\n",
      "Epoch 1/30\n",
      "55000/55000 [==============================] - 244s 4ms/step - loss: 0.2420 - acc: 0.9251 - val_loss: 0.0534 - val_acc: 0.9834\n",
      "Epoch 2/30\n",
      "55000/55000 [==============================] - 245s 4ms/step - loss: 0.0834 - acc: 0.9741 - val_loss: 0.0386 - val_acc: 0.9876\n",
      "Epoch 3/30\n",
      "55000/55000 [==============================] - 247s 4ms/step - loss: 0.0641 - acc: 0.9806 - val_loss: 0.0379 - val_acc: 0.9865\n",
      "Epoch 4/30\n",
      "55000/55000 [==============================] - 247s 4ms/step - loss: 0.0496 - acc: 0.9846 - val_loss: 0.0325 - val_acc: 0.9887\n",
      "Epoch 5/30\n",
      "55000/55000 [==============================] - 244s 4ms/step - loss: 0.0437 - acc: 0.9859 - val_loss: 0.0305 - val_acc: 0.9894\n",
      "Epoch 6/30\n",
      "55000/55000 [==============================] - 248s 5ms/step - loss: 0.0365 - acc: 0.9884 - val_loss: 0.0260 - val_acc: 0.9917\n",
      "Epoch 7/30\n",
      "55000/55000 [==============================] - 247s 4ms/step - loss: 0.0337 - acc: 0.9895 - val_loss: 0.0251 - val_acc: 0.9917\n",
      "Epoch 8/30\n",
      "55000/55000 [==============================] - 245s 4ms/step - loss: 0.0310 - acc: 0.9901 - val_loss: 0.0316 - val_acc: 0.9903\n",
      "Epoch 9/30\n",
      "55000/55000 [==============================] - 246s 4ms/step - loss: 0.0270 - acc: 0.9914 - val_loss: 0.0282 - val_acc: 0.9904\n",
      "Epoch 10/30\n",
      "55000/55000 [==============================] - 181s 3ms/step - loss: 0.0259 - acc: 0.9912 - val_loss: 0.0281 - val_acc: 0.9914\n",
      "Epoch 11/30\n",
      "55000/55000 [==============================] - 125s 2ms/step - loss: 0.0223 - acc: 0.9928 - val_loss: 0.0301 - val_acc: 0.9918\n",
      "Epoch 12/30\n",
      "55000/55000 [==============================] - 124s 2ms/step - loss: 0.0209 - acc: 0.9925 - val_loss: 0.0298 - val_acc: 0.9915\n",
      "Epoch 13/30\n",
      "11200/55000 [=====>........................] - ETA: 1:33 - loss: 0.0176 - acc: 0.9925"
     ]
    }
   ],
   "source": [
    "model.fit(xtr, ytr, epochs = 30, batch_size=100, validation_data = (xts, yts))"
   ]
  }
 ],
 "metadata": {
  "kernelspec": {
   "display_name": "Python 3",
   "language": "python",
   "name": "python3"
  },
  "language_info": {
   "codemirror_mode": {
    "name": "ipython",
    "version": 3
   },
   "file_extension": ".py",
   "mimetype": "text/x-python",
   "name": "python",
   "nbconvert_exporter": "python",
   "pygments_lexer": "ipython3",
   "version": "3.6.5"
  }
 },
 "nbformat": 4,
 "nbformat_minor": 2
}
